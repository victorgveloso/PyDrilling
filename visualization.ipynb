{
 "cells": [
  {
   "cell_type": "code",
   "execution_count": 1,
   "metadata": {
    "collapsed": true,
    "pycharm": {
     "name": "#%%\n"
    }
   },
   "outputs": [],
   "source": [
    "import jsonpickle"
   ]
  },
  {
   "cell_type": "code",
   "execution_count": 2,
   "outputs": [],
   "source": [
    "from project import Project\n",
    "with open('projects.json') as f:\n",
    "    projects = jsonpickle.decode(f.read())"
   ],
   "metadata": {
    "collapsed": false,
    "pycharm": {
     "name": "#%%\n"
    }
   }
  },
  {
   "cell_type": "code",
   "execution_count": 3,
   "outputs": [],
   "source": [
    "okhttp : Project = projects['okhttp']"
   ],
   "metadata": {
    "collapsed": false,
    "pycharm": {
     "name": "#%%\n"
    }
   }
  },
  {
   "cell_type": "code",
   "execution_count": 4,
   "outputs": [
    {
     "data": {
      "text/plain": "10"
     },
     "execution_count": 4,
     "metadata": {},
     "output_type": "execute_result"
    }
   ],
   "source": [
    "len(okhttp.methods[0].contributors)"
   ],
   "metadata": {
    "collapsed": false,
    "pycharm": {
     "name": "#%%\n"
    }
   }
  },
  {
   "cell_type": "code",
   "execution_count": 5,
   "outputs": [],
   "source": [
    "from contributor import Contributor\n",
    "from typing import List\n",
    "\n",
    "a : List[Contributor] = okhttp.methods[0].contributors"
   ],
   "metadata": {
    "collapsed": false,
    "pycharm": {
     "name": "#%%\n"
    }
   }
  },
  {
   "cell_type": "code",
   "execution_count": 6,
   "outputs": [
    {
     "name": "stdout",
     "output_type": "stream",
     "text": [
      "Jesse Wilson<jesse@swank.ca>: XP=0.362134944612286\n",
      "monkey-mas<monkey-mas@users.noreply.github.com>: XP=0.0007075167196013117\n",
      "Marcelo Cortes<marcelo@squareup.com>: XP=0.0026768576617519214\n",
      "Yuri Schimke<yuri@schimke.ee>: XP=0.06160215525774438\n",
      "Dave Roberge<david.roberge12@gmail.com>: XP=0.009597094189239205\n",
      "jwilson<jwilson@squareup.com>: XP=0.5937855587402415\n",
      "Benoît Quenaudon<oldering@gmail.com>: XP=0.01646052280493368\n",
      "Neil Fuller<nfuller@google.com>: XP=0.025396579475129324\n",
      "Jake Wharton<jw@squareup.com>: XP=0.057916526798702024\n",
      "Adrian Cole<adrian@squareup.com>: XP=0.04303801826460437\n"
     ]
    }
   ],
   "source": [
    "for c in a:\n",
    "    print(c)"
   ],
   "metadata": {
    "collapsed": false,
    "pycharm": {
     "name": "#%%\n"
    }
   }
  },
  {
   "cell_type": "code",
   "execution_count": 7,
   "outputs": [],
   "source": [
    "from statistics import mean, median, stdev, StatisticsError\n",
    "with open(\"output.csv\", \"w\") as f:\n",
    "    f.write(\"Project,Package,Method,SLOC,Complexity,ModifyingCommits,Contributors,MaxExperienced,MinExperienced,MeanExperience,MedianExperience,StdevExperience\\n\")\n",
    "for project_name, project in projects.items():\n",
    "    for test in project.methods:\n",
    "        experiences = [c.experience for c in test.contributors]\n",
    "        with open(\"output.csv\", \"a\") as f:\n",
    "            try:\n",
    "                f.write(','.join([project_name, test.package, test.name, str(test.nloc), str(test.complexity), str(test.n_commits), str(len(experiences)), str(max(experiences)), str(min(experiences)), str(mean(experiences)), str(median(experiences)), str(stdev(experiences))]) + '\\n')\n",
    "            except StatisticsError as err:\n",
    "                f.write(','.join([project_name, test.package, test.name, str(test.nloc), str(test.complexity), str(test.n_commits), str(len(experiences)), str(max(experiences)), str(min(experiences)), str(mean(experiences)), str(median(experiences)), \"None\"]) + '\\n')"
   ],
   "metadata": {
    "collapsed": false,
    "pycharm": {
     "name": "#%%\n"
    }
   }
  }
 ],
 "metadata": {
  "kernelspec": {
   "display_name": "Python 3",
   "language": "python",
   "name": "python3"
  },
  "language_info": {
   "codemirror_mode": {
    "name": "ipython",
    "version": 2
   },
   "file_extension": ".py",
   "mimetype": "text/x-python",
   "name": "python",
   "nbconvert_exporter": "python",
   "pygments_lexer": "ipython2",
   "version": "2.7.6"
  }
 },
 "nbformat": 4,
 "nbformat_minor": 0
}