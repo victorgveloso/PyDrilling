{
 "cells": [
  {
   "cell_type": "code",
   "execution_count": 21,
   "metadata": {
    "collapsed": true,
    "pycharm": {
     "name": "#%%\n"
    }
   },
   "outputs": [],
   "source": [
    "import jsonpickle"
   ]
  },
  {
   "cell_type": "code",
   "execution_count": 22,
   "metadata": {
    "pycharm": {
     "name": "#%%\n"
    }
   },
   "outputs": [],
   "source": [
    "from project import Project\n",
    "from typing import Dict\n",
    "with open('projects.json') as f:\n",
    "    projects : Dict[str,Project] = jsonpickle.decode(f.read())"
   ]
  },
  {
   "cell_type": "code",
   "execution_count": 23,
   "outputs": [],
   "source": [
    "projects.keys()\n",
    "del projects['okhttp']\n",
    "with open('okhttp.json') as o:\n",
    "    projects['okhttp'] = jsonpickle.decode(o.read())['okhttp']\n",
    "with open('commons-lang.json') as o:\n",
    "    projects['commons-lang'] = jsonpickle.decode(o.read())['commons-lang']"
   ],
   "metadata": {
    "collapsed": false,
    "pycharm": {
     "name": "#%%\n"
    }
   }
  },
  {
   "cell_type": "code",
   "execution_count": 24,
   "outputs": [
    {
     "data": {
      "text/plain": "dict_keys(['retrofit', 'RxJava', 'zxing', 'okhttp', 'commons-lang'])"
     },
     "execution_count": 24,
     "metadata": {},
     "output_type": "execute_result"
    }
   ],
   "source": [
    "projects.keys()"
   ],
   "metadata": {
    "collapsed": false,
    "pycharm": {
     "name": "#%%\n"
    }
   }
  },
  {
   "cell_type": "code",
   "execution_count": 25,
   "outputs": [],
   "source": [
    "from contributor import Contributor\n",
    "from typing import Collection\n",
    "\n",
    "a : Collection[Contributor] = projects['okhttp'].methods[0].contributors"
   ],
   "metadata": {
    "collapsed": false,
    "pycharm": {
     "name": "#%%\n"
    }
   }
  },
  {
   "cell_type": "code",
   "execution_count": 26,
   "metadata": {
    "pycharm": {
     "name": "#%%\n"
    }
   },
   "outputs": [
    {
     "name": "stdout",
     "output_type": "stream",
     "text": [
      "Jake Wharton<jw@squareup.com>: XP=0.058171079408606705\n"
     ]
    }
   ],
   "source": [
    "for c in a:\n",
    "    print(c)"
   ]
  },
  {
   "cell_type": "code",
   "execution_count": 27,
   "metadata": {
    "pycharm": {
     "name": "#%%\n"
    }
   },
   "outputs": [
    {
     "name": "stdout",
     "output_type": "stream",
     "text": [
      "retrofit: DefaultMethodsTest::user\n",
      "retrofit: RequestFactoryTest::assertBody\n",
      "RxJava: CompletableAndThenCompletableTest::andThenCompletableCompleteComplete\n",
      "RxJava: CompletableAndThenCompletableTest::andThenCompletableCompleteError\n",
      "RxJava: CompletableAndThenCompletableTest::andThenCompletableCompleteNever\n",
      "RxJava: CompletableAndThenCompletableTest::andThenCompletableErrorComplete\n",
      "RxJava: CompletableAndThenCompletableTest::andThenCompletableErrorNever\n",
      "RxJava: CompletableAndThenCompletableTest::andThenCompletableErrorError\n",
      "RxJava: CompletableAndThenCompletableTest::andThenCanceled\n",
      "RxJava: CompletableAndThenCompletableTest::andThenFirstCancels\n",
      "RxJava: CompletableAndThenCompletableTest::andThenSecondCancels\n",
      "RxJava: CompletableAndThenCompletableTest::andThenDisposed\n",
      "RxJava: CompletableAndThenCompletableTest::andThenNoInterrupt\n",
      "RxJava: FlowableTakeTest2::accept\n",
      "RxJava: FlowableTakeTest2::run\n",
      "okhttp: ConnectionReuseTest::connectionsAreNotReusedWithRequestConnectionClose\n",
      "okhttp: ConnectionReuseTest::connectionsAreNotReusedWithResponseConnectionClose\n",
      "okhttp: ConnectionReuseTest::connectionsAreNotReusedWithUnknownLengthResponseBody\n",
      "okhttp: Http2Test::gzip\n",
      "okhttp: URLConnectionTest::RecordingTrustManager::RecordingTrustManager\n",
      "okhttp: URLConnectionTest::RecordingTrustManager::certificatesToString\n",
      "okhttp: CacheTest::responseCachingAndInputStreamSkipWithFixedLength\n",
      "okhttp: CacheTest::serverDisconnectsPrematurelyWithContentLengthHeader\n",
      "okhttp: CacheTest::serverDisconnectsPrematurelyWithNoLengthHeaders\n",
      "okhttp: CacheTest::clientPrematureDisconnectWithContentLengthHeader\n",
      "okhttp: CacheTest::requestMethodOptionsIsNotCached\n",
      "okhttp: CacheTest::requestMethodGetIsCached\n",
      "okhttp: CacheTest::requestMethodDeleteIsNotCached\n",
      "okhttp: CacheTest::requestMethodTraceIsNotCached\n",
      "okhttp: CacheTest::putInvalidatesCache\n",
      "okhttp: CacheTest::deleteMethodInvalidatesCache\n",
      "okhttp: CacheTest::gzip\n",
      "okhttp: HpackTest::readRequestExamplesWithoutHuffman\n",
      "okhttp: HpackTest::secondRequestWithoutHuffman\n",
      "okhttp: HpackTest::thirdRequestWithoutHuffman\n",
      "okhttp: HpackTest::readRequestExamplesWithHuffman\n",
      "okhttp: HpackTest::secondRequestWithHuffman\n",
      "okhttp: HpackTest::thirdRequestWithHuffman\n",
      "commons-lang: StringUtilsTrimStripTest::testTrimToEmpty\n",
      "commons-lang: EventUtilsTest::EventCountingInvocationHandler::getEventCount\n",
      "commons-lang: EventUtilsTest::EventCountingInvocationHandler::invoke\n"
     ]
    }
   ],
   "source": [
    "from statistics import mean, median, stdev, StatisticsError\n",
    "with open(\"output.csv\", \"w\") as f:\n",
    "    f.write(\"Project,Package,Method,SLOC,Complexity,ModifyingCommits,Contributors,MaxExperienced,MinExperienced,MeanExperience,MedianExperience,StdevExperience\\n\")\n",
    "for project_name, project in projects.items():\n",
    "    for test in project.methods:\n",
    "        experiences = [c.experience for c in test.contributors]\n",
    "        with open(\"output.csv\", \"a\") as f:\n",
    "            contributors = len(experiences)\n",
    "            if contributors == 0:\n",
    "                print(f'{project_name}: {test.name}')\n",
    "                max_xp = 'None'\n",
    "                avg_xp = 'None'\n",
    "                min_xp = 'None'\n",
    "                median_xp = 'None'\n",
    "            else:\n",
    "                max_xp = max(experiences)\n",
    "                avg_xp = mean(experiences)\n",
    "                min_xp = min(experiences)\n",
    "                median_xp = median(experiences)\n",
    "            try:\n",
    "                stdev_xp = stdev(experiences)\n",
    "            except StatisticsError as err:\n",
    "                stdev_xp = 'None'\n",
    "            f.write(','.join([project_name, test.package, test.name, str(test.nloc), str(test.complexity), str(test.n_commits), str(contributors), str(max_xp), str(min_xp), str(avg_xp), str(median_xp), str(stdev_xp)]) + '\\n')"
   ]
  },
  {
   "cell_type": "code",
   "execution_count": 28,
   "metadata": {
    "pycharm": {
     "name": "#%%\n"
    }
   },
   "outputs": [],
   "source": [
    "with open(\"contributors.csv\", \"w\") as f:\n",
    "    f.write(\"Project,Package,Method,ModifyingCommits,ContributorsCount,ContributorsList\\n\")\n",
    "for project_name, project in projects.items():\n",
    "    for test in project.methods:\n",
    "        contributors = [f\"{c.name} <{c.email}> ({c.experience})\" for c in test.contributors]\n",
    "        with open(\"contributors.csv\", \"a\") as f:\n",
    "            count = len(contributors)\n",
    "            f.write(','.join([project_name, test.package, test.name, str(test.n_commits), str(count), ','.join(contributors)]) + '\\n')"
   ]
  },
  {
   "cell_type": "code",
   "execution_count": null,
   "metadata": {},
   "outputs": [],
   "source": []
  }
 ],
 "metadata": {
  "kernelspec": {
   "display_name": "Python 3",
   "language": "python",
   "name": "python3"
  },
  "language_info": {
   "codemirror_mode": {
    "name": "ipython",
    "version": 3
   },
   "file_extension": ".py",
   "mimetype": "text/x-python",
   "name": "python",
   "nbconvert_exporter": "python",
   "pygments_lexer": "ipython3",
   "version": "3.7.9"
  }
 },
 "nbformat": 4,
 "nbformat_minor": 1
}